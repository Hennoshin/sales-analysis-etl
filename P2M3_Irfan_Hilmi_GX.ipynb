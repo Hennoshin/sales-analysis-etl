{
 "cells": [
  {
   "cell_type": "markdown",
   "metadata": {},
   "source": [
    "# Introduction\n",
    "\n",
    "=============================================\n",
    "\n",
    "Name: Muhammad Irfan Hilmi\n",
    "Batch: FTDS 026\n",
    "\n",
    "==============================================\n",
    "\n",
    "This notebook performs data validation using Great Expectation tool. The data being validated is the cleaned .csv data of the dataset."
   ]
  },
  {
   "cell_type": "code",
   "execution_count": 1,
   "metadata": {},
   "outputs": [],
   "source": [
    "import great_expectations as gx\n",
    "from great_expectations import expectations as gxe"
   ]
  },
  {
   "cell_type": "code",
   "execution_count": 2,
   "metadata": {},
   "outputs": [],
   "source": [
    "context = gx.get_context(project_root_dir=\"./\")"
   ]
  },
  {
   "cell_type": "code",
   "execution_count": 3,
   "metadata": {},
   "outputs": [],
   "source": [
    "data_source = context.data_sources.add_pandas(\"main-datasource\")\n",
    "asset = data_source.add_csv_asset(name=\"sales-data\", filepath_or_buffer=\"./P2M3_Irfan_Hilmi_data_clean.csv\")\n",
    "batch_definition = asset.add_batch_definition(\"sales-data-main-batch\")"
   ]
  },
  {
   "cell_type": "code",
   "execution_count": 4,
   "metadata": {},
   "outputs": [
    {
     "name": "stderr",
     "output_type": "stream",
     "text": [
      "Calculating Metrics: 100%|██████████| 1/1 [00:00<00:00, 1001.51it/s]"
     ]
    },
    {
     "name": "stdout",
     "output_type": "stream",
     "text": [
      "        id order_id  amount  profit  quantity         category  \\\n",
      "0        0  B-26776    9726    1275         5      Electronics   \n",
      "1        1  B-26776    9726    1275         5      Electronics   \n",
      "2        2  B-26776    9726    1275         5      Electronics   \n",
      "3        3  B-26776    4975    1330        14      Electronics   \n",
      "4        4  B-26776    4975    1330        14      Electronics   \n",
      "...    ...      ...     ...     ...       ...              ...   \n",
      "1189  1189  B-26370    8825    3594        15        Furniture   \n",
      "1190  1190  B-26298    2082     642         8      Electronics   \n",
      "1191  1191  B-26298    2082     642         8      Electronics   \n",
      "1192  1192  B-26298    2082     642         8      Electronics   \n",
      "1193  1193  B-25068     914     163        13  Office Supplies   \n",
      "\n",
      "          sub_category payment_mode  order_date       customer_name     state  \\\n",
      "0     Electronic Games          UPI  2023-06-27       David Padilla   Florida   \n",
      "1     Electronic Games          UPI  2024-12-27       Connor Morgan  Illinois   \n",
      "2     Electronic Games          UPI  2021-07-25        Robert Stone  New York   \n",
      "3             Printers          UPI  2023-06-27       David Padilla   Florida   \n",
      "4             Printers          UPI  2024-12-27       Connor Morgan  Illinois   \n",
      "...                ...          ...         ...                 ...       ...   \n",
      "1189            Tables   Debit Card  2024-07-31        Megan Mclean  New York   \n",
      "1190            Phones          EMI  2020-06-02        Caitlin Hunt  New York   \n",
      "1191            Phones          EMI  2022-12-15       Jenna Holland     Texas   \n",
      "1192            Phones          EMI  2020-08-07  Stephanie Oconnell  New York   \n",
      "1193           Markers          UPI  2024-10-26         Andrea Hill  Illinois   \n",
      "\n",
      "               city  \n",
      "0             Miami  \n",
      "1           Chicago  \n",
      "2           Buffalo  \n",
      "3             Miami  \n",
      "4           Chicago  \n",
      "...             ...  \n",
      "1189  New York City  \n",
      "1190      Rochester  \n",
      "1191         Austin  \n",
      "1192        Buffalo  \n",
      "1193        Chicago  \n",
      "\n",
      "[1194 rows x 12 columns]\n"
     ]
    },
    {
     "name": "stderr",
     "output_type": "stream",
     "text": [
      "\n"
     ]
    }
   ],
   "source": [
    "batch = batch_definition.get_batch()\n",
    "\n",
    "print(batch.head(fetch_all=True))"
   ]
  },
  {
   "cell_type": "markdown",
   "metadata": {},
   "source": [
    "# Expectations"
   ]
  },
  {
   "cell_type": "code",
   "execution_count": 5,
   "metadata": {},
   "outputs": [
    {
     "name": "stderr",
     "output_type": "stream",
     "text": [
      "Calculating Metrics:   0%|          | 0/10 [00:00<?, ?it/s]"
     ]
    },
    {
     "name": "stderr",
     "output_type": "stream",
     "text": [
      "Calculating Metrics: 100%|██████████| 10/10 [00:00<00:00, 862.88it/s] \n"
     ]
    },
    {
     "data": {
      "text/plain": [
       "{\n",
       "  \"success\": true,\n",
       "  \"expectation_config\": {\n",
       "    \"type\": \"expect_column_values_to_be_unique\",\n",
       "    \"kwargs\": {\n",
       "      \"batch_id\": \"main-datasource-sales-data\",\n",
       "      \"column\": \"id\"\n",
       "    },\n",
       "    \"meta\": {}\n",
       "  },\n",
       "  \"result\": {\n",
       "    \"element_count\": 1194,\n",
       "    \"unexpected_count\": 0,\n",
       "    \"unexpected_percent\": 0.0,\n",
       "    \"partial_unexpected_list\": [],\n",
       "    \"missing_count\": 0,\n",
       "    \"missing_percent\": 0.0,\n",
       "    \"unexpected_percent_total\": 0.0,\n",
       "    \"unexpected_percent_nonmissing\": 0.0,\n",
       "    \"partial_unexpected_counts\": [],\n",
       "    \"partial_unexpected_index_list\": []\n",
       "  },\n",
       "  \"meta\": {},\n",
       "  \"exception_info\": {\n",
       "    \"raised_exception\": false,\n",
       "    \"exception_traceback\": null,\n",
       "    \"exception_message\": null\n",
       "  }\n",
       "}"
      ]
     },
     "execution_count": 5,
     "metadata": {},
     "output_type": "execute_result"
    }
   ],
   "source": [
    "unique_id_expectation = gxe.ExpectColumnValuesToBeUnique(\n",
    "    column=\"id\"\n",
    ")\n",
    "\n",
    "batch.validate(unique_id_expectation)"
   ]
  },
  {
   "cell_type": "code",
   "execution_count": 6,
   "metadata": {},
   "outputs": [
    {
     "name": "stderr",
     "output_type": "stream",
     "text": [
      "Calculating Metrics:   0%|          | 0/10 [00:00<?, ?it/s]"
     ]
    },
    {
     "name": "stderr",
     "output_type": "stream",
     "text": [
      "Calculating Metrics: 100%|██████████| 10/10 [00:00<00:00, 1058.95it/s]\n"
     ]
    },
    {
     "data": {
      "text/plain": [
       "{\n",
       "  \"success\": true,\n",
       "  \"expectation_config\": {\n",
       "    \"type\": \"expect_column_values_to_be_between\",\n",
       "    \"kwargs\": {\n",
       "      \"batch_id\": \"main-datasource-sales-data\",\n",
       "      \"column\": \"profit\",\n",
       "      \"min_value\": 0.0,\n",
       "      \"max_value\": 5000.0\n",
       "    },\n",
       "    \"meta\": {}\n",
       "  },\n",
       "  \"result\": {\n",
       "    \"element_count\": 1194,\n",
       "    \"unexpected_count\": 0,\n",
       "    \"unexpected_percent\": 0.0,\n",
       "    \"partial_unexpected_list\": [],\n",
       "    \"missing_count\": 0,\n",
       "    \"missing_percent\": 0.0,\n",
       "    \"unexpected_percent_total\": 0.0,\n",
       "    \"unexpected_percent_nonmissing\": 0.0,\n",
       "    \"partial_unexpected_counts\": [],\n",
       "    \"partial_unexpected_index_list\": []\n",
       "  },\n",
       "  \"meta\": {},\n",
       "  \"exception_info\": {\n",
       "    \"raised_exception\": false,\n",
       "    \"exception_traceback\": null,\n",
       "    \"exception_message\": null\n",
       "  }\n",
       "}"
      ]
     },
     "execution_count": 6,
     "metadata": {},
     "output_type": "execute_result"
    }
   ],
   "source": [
    "between_date_expectation = gxe.ExpectColumnValuesToBeBetween(\n",
    "    column=\"profit\",\n",
    "    min_value=0,\n",
    "    max_value=5000\n",
    ")\n",
    "\n",
    "batch.validate(between_date_expectation)"
   ]
  },
  {
   "cell_type": "code",
   "execution_count": 7,
   "metadata": {},
   "outputs": [
    {
     "name": "stderr",
     "output_type": "stream",
     "text": [
      "Calculating Metrics: 100%|██████████| 10/10 [00:00<00:00, 1246.41it/s]\n"
     ]
    },
    {
     "data": {
      "text/plain": [
       "{\n",
       "  \"success\": true,\n",
       "  \"expectation_config\": {\n",
       "    \"type\": \"expect_column_values_to_be_in_set\",\n",
       "    \"kwargs\": {\n",
       "      \"batch_id\": \"main-datasource-sales-data\",\n",
       "      \"column\": \"category\",\n",
       "      \"value_set\": [\n",
       "        \"Electronics\",\n",
       "        \"Office Supplies\",\n",
       "        \"Furniture\"\n",
       "      ]\n",
       "    },\n",
       "    \"meta\": {}\n",
       "  },\n",
       "  \"result\": {\n",
       "    \"element_count\": 1194,\n",
       "    \"unexpected_count\": 0,\n",
       "    \"unexpected_percent\": 0.0,\n",
       "    \"partial_unexpected_list\": [],\n",
       "    \"missing_count\": 0,\n",
       "    \"missing_percent\": 0.0,\n",
       "    \"unexpected_percent_total\": 0.0,\n",
       "    \"unexpected_percent_nonmissing\": 0.0,\n",
       "    \"partial_unexpected_counts\": [],\n",
       "    \"partial_unexpected_index_list\": []\n",
       "  },\n",
       "  \"meta\": {},\n",
       "  \"exception_info\": {\n",
       "    \"raised_exception\": false,\n",
       "    \"exception_traceback\": null,\n",
       "    \"exception_message\": null\n",
       "  }\n",
       "}"
      ]
     },
     "execution_count": 7,
     "metadata": {},
     "output_type": "execute_result"
    }
   ],
   "source": [
    "in_set_category_expectation = gxe.ExpectColumnValuesToBeInSet(\n",
    "    column=\"category\",\n",
    "    value_set=[\"Electronics\", \"Office Supplies\", \"Furniture\"]\n",
    ")\n",
    "\n",
    "batch.validate(in_set_category_expectation)"
   ]
  },
  {
   "cell_type": "code",
   "execution_count": 8,
   "metadata": {},
   "outputs": [
    {
     "name": "stderr",
     "output_type": "stream",
     "text": [
      "Calculating Metrics:   0%|          | 0/1 [00:00<?, ?it/s]"
     ]
    },
    {
     "name": "stderr",
     "output_type": "stream",
     "text": [
      "Calculating Metrics: 100%|██████████| 1/1 [00:00<00:00, 499.44it/s] \n"
     ]
    },
    {
     "data": {
      "text/plain": [
       "{\n",
       "  \"success\": true,\n",
       "  \"expectation_config\": {\n",
       "    \"type\": \"expect_column_values_to_be_in_type_list\",\n",
       "    \"kwargs\": {\n",
       "      \"batch_id\": \"main-datasource-sales-data\",\n",
       "      \"column\": \"profit\",\n",
       "      \"type_list\": [\n",
       "        \"int64\"\n",
       "      ]\n",
       "    },\n",
       "    \"meta\": {}\n",
       "  },\n",
       "  \"result\": {\n",
       "    \"observed_value\": \"int64\"\n",
       "  },\n",
       "  \"meta\": {},\n",
       "  \"exception_info\": {\n",
       "    \"raised_exception\": false,\n",
       "    \"exception_traceback\": null,\n",
       "    \"exception_message\": null\n",
       "  }\n",
       "}"
      ]
     },
     "execution_count": 8,
     "metadata": {},
     "output_type": "execute_result"
    }
   ],
   "source": [
    "number_type_profit_expectation = gxe.ExpectColumnValuesToBeInTypeList(\n",
    "    column=\"profit\",\n",
    "    type_list=[\"int64\"]\n",
    ")\n",
    "\n",
    "batch.validate(number_type_profit_expectation)"
   ]
  },
  {
   "cell_type": "code",
   "execution_count": 9,
   "metadata": {},
   "outputs": [
    {
     "name": "stderr",
     "output_type": "stream",
     "text": [
      "Calculating Metrics:   0%|          | 0/3 [00:00<?, ?it/s]"
     ]
    },
    {
     "name": "stderr",
     "output_type": "stream",
     "text": [
      "Calculating Metrics: 100%|██████████| 3/3 [00:00<00:00, 710.58it/s]\n"
     ]
    },
    {
     "data": {
      "text/plain": [
       "{\n",
       "  \"success\": true,\n",
       "  \"expectation_config\": {\n",
       "    \"type\": \"expect_table_column_count_to_equal\",\n",
       "    \"kwargs\": {\n",
       "      \"batch_id\": \"main-datasource-sales-data\",\n",
       "      \"value\": 12\n",
       "    },\n",
       "    \"meta\": {}\n",
       "  },\n",
       "  \"result\": {\n",
       "    \"observed_value\": 12\n",
       "  },\n",
       "  \"meta\": {},\n",
       "  \"exception_info\": {\n",
       "    \"raised_exception\": false,\n",
       "    \"exception_traceback\": null,\n",
       "    \"exception_message\": null\n",
       "  }\n",
       "}"
      ]
     },
     "execution_count": 9,
     "metadata": {},
     "output_type": "execute_result"
    }
   ],
   "source": [
    "column_count_expectation = gxe.ExpectTableColumnCountToEqual(\n",
    "    value=12\n",
    ")\n",
    "\n",
    "batch.validate(column_count_expectation)"
   ]
  },
  {
   "cell_type": "code",
   "execution_count": 10,
   "metadata": {},
   "outputs": [
    {
     "name": "stderr",
     "output_type": "stream",
     "text": [
      "Calculating Metrics: 100%|██████████| 1/1 [00:00<00:00, 999.83it/s]"
     ]
    },
    {
     "name": "stderr",
     "output_type": "stream",
     "text": [
      "Calculating Metrics: 100%|██████████| 1/1 [00:00<00:00, 499.50it/s]\n"
     ]
    },
    {
     "data": {
      "text/plain": [
       "{\n",
       "  \"success\": true,\n",
       "  \"expectation_config\": {\n",
       "    \"type\": \"expect_table_row_count_to_be_between\",\n",
       "    \"kwargs\": {\n",
       "      \"batch_id\": \"main-datasource-sales-data\",\n",
       "      \"min_value\": 1000,\n",
       "      \"max_value\": 2000\n",
       "    },\n",
       "    \"meta\": {}\n",
       "  },\n",
       "  \"result\": {\n",
       "    \"observed_value\": 1194\n",
       "  },\n",
       "  \"meta\": {},\n",
       "  \"exception_info\": {\n",
       "    \"raised_exception\": false,\n",
       "    \"exception_traceback\": null,\n",
       "    \"exception_message\": null\n",
       "  }\n",
       "}"
      ]
     },
     "execution_count": 10,
     "metadata": {},
     "output_type": "execute_result"
    }
   ],
   "source": [
    "row_count_expectation = gxe.ExpectTableRowCountToBeBetween(\n",
    "    min_value=1000,\n",
    "    max_value=2000\n",
    ")\n",
    "\n",
    "batch.validate(row_count_expectation)"
   ]
  },
  {
   "cell_type": "code",
   "execution_count": 11,
   "metadata": {},
   "outputs": [
    {
     "name": "stderr",
     "output_type": "stream",
     "text": [
      "Calculating Metrics: 100%|██████████| 11/11 [00:00<00:00, 1095.95it/s]\n"
     ]
    },
    {
     "data": {
      "text/plain": [
       "{\n",
       "  \"success\": true,\n",
       "  \"expectation_config\": {\n",
       "    \"type\": \"expect_column_value_lengths_to_be_between\",\n",
       "    \"kwargs\": {\n",
       "      \"batch_id\": \"main-datasource-sales-data\",\n",
       "      \"column\": \"state\",\n",
       "      \"min_value\": 4,\n",
       "      \"max_value\": 64\n",
       "    },\n",
       "    \"meta\": {}\n",
       "  },\n",
       "  \"result\": {\n",
       "    \"element_count\": 1194,\n",
       "    \"unexpected_count\": 0,\n",
       "    \"unexpected_percent\": 0.0,\n",
       "    \"partial_unexpected_list\": [],\n",
       "    \"missing_count\": 0,\n",
       "    \"missing_percent\": 0.0,\n",
       "    \"unexpected_percent_total\": 0.0,\n",
       "    \"unexpected_percent_nonmissing\": 0.0,\n",
       "    \"partial_unexpected_counts\": [],\n",
       "    \"partial_unexpected_index_list\": []\n",
       "  },\n",
       "  \"meta\": {},\n",
       "  \"exception_info\": {\n",
       "    \"raised_exception\": false,\n",
       "    \"exception_traceback\": null,\n",
       "    \"exception_message\": null\n",
       "  }\n",
       "}"
      ]
     },
     "execution_count": 11,
     "metadata": {},
     "output_type": "execute_result"
    }
   ],
   "source": [
    "length_state_expectation = gxe.ExpectColumnValueLengthsToBeBetween(\n",
    "    column=\"state\",\n",
    "    min_value=4,\n",
    "    max_value=64\n",
    ")\n",
    "\n",
    "batch.validate(length_state_expectation)"
   ]
  }
 ],
 "metadata": {
  "kernelspec": {
   "display_name": "DataFlow",
   "language": "python",
   "name": "python3"
  },
  "language_info": {
   "codemirror_mode": {
    "name": "ipython",
    "version": 3
   },
   "file_extension": ".py",
   "mimetype": "text/x-python",
   "name": "python",
   "nbconvert_exporter": "python",
   "pygments_lexer": "ipython3",
   "version": "3.12.10"
  },
  "orig_nbformat": 4
 },
 "nbformat": 4,
 "nbformat_minor": 2
}
